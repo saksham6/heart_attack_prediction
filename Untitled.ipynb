{
 "cells": [
  {
   "cell_type": "code",
   "execution_count": 1,
   "id": "passing-modem",
   "metadata": {},
   "outputs": [],
   "source": [
    "import numpy as np   \n",
    "import pandas as pd\n",
    "import os\n",
    "\n",
    "import seaborn as sns\n",
    "import matplotlib.pyplot as plt   \n",
    "import matplotlib.style\n",
    "plt.style.use('classic')\n",
    "\n",
    "import warnings\n",
    "warnings.filterwarnings(\"ignore\")"
   ]
  },
  {
   "cell_type": "code",
   "execution_count": 2,
   "id": "outer-think",
   "metadata": {},
   "outputs": [],
   "source": [
    "df = pd.read_csv(\"US_Heart_Patients.csv\")"
   ]
  },
  {
   "cell_type": "code",
   "execution_count": 3,
   "id": "proof-mouse",
   "metadata": {},
   "outputs": [
    {
     "data": {
      "text/html": [
       "<div>\n",
       "<style scoped>\n",
       "    .dataframe tbody tr th:only-of-type {\n",
       "        vertical-align: middle;\n",
       "    }\n",
       "\n",
       "    .dataframe tbody tr th {\n",
       "        vertical-align: top;\n",
       "    }\n",
       "\n",
       "    .dataframe thead th {\n",
       "        text-align: right;\n",
       "    }\n",
       "</style>\n",
       "<table border=\"1\" class=\"dataframe\">\n",
       "  <thead>\n",
       "    <tr style=\"text-align: right;\">\n",
       "      <th></th>\n",
       "      <th>Gender</th>\n",
       "      <th>age</th>\n",
       "      <th>education</th>\n",
       "      <th>currentSmoker</th>\n",
       "      <th>cigsPerDay</th>\n",
       "      <th>BP Meds</th>\n",
       "      <th>prevalentStroke</th>\n",
       "      <th>prevalentHyp</th>\n",
       "      <th>diabetes</th>\n",
       "      <th>tot cholesterol</th>\n",
       "      <th>Systolic BP</th>\n",
       "      <th>Diastolic BP</th>\n",
       "      <th>BMI</th>\n",
       "      <th>heartRate</th>\n",
       "      <th>glucose</th>\n",
       "      <th>Heart-Att</th>\n",
       "    </tr>\n",
       "  </thead>\n",
       "  <tbody>\n",
       "    <tr>\n",
       "      <th>0</th>\n",
       "      <td>Male</td>\n",
       "      <td>39.0</td>\n",
       "      <td>4.0</td>\n",
       "      <td>0.0</td>\n",
       "      <td>0.0</td>\n",
       "      <td>0.0</td>\n",
       "      <td>0.0</td>\n",
       "      <td>0.0</td>\n",
       "      <td>0.0</td>\n",
       "      <td>195.0</td>\n",
       "      <td>106.0</td>\n",
       "      <td>70.0</td>\n",
       "      <td>26.97</td>\n",
       "      <td>80.0</td>\n",
       "      <td>77.0</td>\n",
       "      <td>0</td>\n",
       "    </tr>\n",
       "    <tr>\n",
       "      <th>1</th>\n",
       "      <td>Female</td>\n",
       "      <td>46.0</td>\n",
       "      <td>2.0</td>\n",
       "      <td>0.0</td>\n",
       "      <td>0.0</td>\n",
       "      <td>0.0</td>\n",
       "      <td>0.0</td>\n",
       "      <td>0.0</td>\n",
       "      <td>0.0</td>\n",
       "      <td>250.0</td>\n",
       "      <td>121.0</td>\n",
       "      <td>81.0</td>\n",
       "      <td>28.73</td>\n",
       "      <td>95.0</td>\n",
       "      <td>76.0</td>\n",
       "      <td>0</td>\n",
       "    </tr>\n",
       "    <tr>\n",
       "      <th>2</th>\n",
       "      <td>Male</td>\n",
       "      <td>48.0</td>\n",
       "      <td>1.0</td>\n",
       "      <td>1.0</td>\n",
       "      <td>20.0</td>\n",
       "      <td>0.0</td>\n",
       "      <td>0.0</td>\n",
       "      <td>0.0</td>\n",
       "      <td>0.0</td>\n",
       "      <td>245.0</td>\n",
       "      <td>127.5</td>\n",
       "      <td>80.0</td>\n",
       "      <td>25.34</td>\n",
       "      <td>75.0</td>\n",
       "      <td>70.0</td>\n",
       "      <td>0</td>\n",
       "    </tr>\n",
       "    <tr>\n",
       "      <th>3</th>\n",
       "      <td>Female</td>\n",
       "      <td>61.0</td>\n",
       "      <td>3.0</td>\n",
       "      <td>1.0</td>\n",
       "      <td>30.0</td>\n",
       "      <td>0.0</td>\n",
       "      <td>0.0</td>\n",
       "      <td>1.0</td>\n",
       "      <td>0.0</td>\n",
       "      <td>225.0</td>\n",
       "      <td>150.0</td>\n",
       "      <td>95.0</td>\n",
       "      <td>28.58</td>\n",
       "      <td>65.0</td>\n",
       "      <td>103.0</td>\n",
       "      <td>1</td>\n",
       "    </tr>\n",
       "    <tr>\n",
       "      <th>4</th>\n",
       "      <td>Female</td>\n",
       "      <td>46.0</td>\n",
       "      <td>3.0</td>\n",
       "      <td>1.0</td>\n",
       "      <td>23.0</td>\n",
       "      <td>0.0</td>\n",
       "      <td>0.0</td>\n",
       "      <td>0.0</td>\n",
       "      <td>0.0</td>\n",
       "      <td>285.0</td>\n",
       "      <td>130.0</td>\n",
       "      <td>84.0</td>\n",
       "      <td>23.10</td>\n",
       "      <td>85.0</td>\n",
       "      <td>85.0</td>\n",
       "      <td>0</td>\n",
       "    </tr>\n",
       "  </tbody>\n",
       "</table>\n",
       "</div>"
      ],
      "text/plain": [
       "   Gender   age  education  currentSmoker  cigsPerDay  BP Meds  \\\n",
       "0    Male  39.0        4.0            0.0         0.0      0.0   \n",
       "1  Female  46.0        2.0            0.0         0.0      0.0   \n",
       "2    Male  48.0        1.0            1.0        20.0      0.0   \n",
       "3  Female  61.0        3.0            1.0        30.0      0.0   \n",
       "4  Female  46.0        3.0            1.0        23.0      0.0   \n",
       "\n",
       "   prevalentStroke  prevalentHyp  diabetes  tot cholesterol  Systolic BP  \\\n",
       "0              0.0           0.0       0.0            195.0        106.0   \n",
       "1              0.0           0.0       0.0            250.0        121.0   \n",
       "2              0.0           0.0       0.0            245.0        127.5   \n",
       "3              0.0           1.0       0.0            225.0        150.0   \n",
       "4              0.0           0.0       0.0            285.0        130.0   \n",
       "\n",
       "   Diastolic BP    BMI  heartRate  glucose  Heart-Att  \n",
       "0          70.0  26.97       80.0     77.0          0  \n",
       "1          81.0  28.73       95.0     76.0          0  \n",
       "2          80.0  25.34       75.0     70.0          0  \n",
       "3          95.0  28.58       65.0    103.0          1  \n",
       "4          84.0  23.10       85.0     85.0          0  "
      ]
     },
     "execution_count": 3,
     "metadata": {},
     "output_type": "execute_result"
    }
   ],
   "source": [
    "df.head()"
   ]
  },
  {
   "cell_type": "code",
   "execution_count": 4,
   "id": "referenced-federal",
   "metadata": {},
   "outputs": [
    {
     "name": "stdout",
     "output_type": "stream",
     "text": [
      "no. of rows:  4240 \n",
      "no. of columns:  16\n"
     ]
    }
   ],
   "source": [
    "print(\"no. of rows: \",df.shape[0], \"\\n\"\"no. of columns: \",df.shape[1])"
   ]
  },
  {
   "cell_type": "code",
   "execution_count": 5,
   "id": "talented-screen",
   "metadata": {},
   "outputs": [
    {
     "name": "stdout",
     "output_type": "stream",
     "text": [
      "<class 'pandas.core.frame.DataFrame'>\n",
      "RangeIndex: 4240 entries, 0 to 4239\n",
      "Data columns (total 16 columns):\n",
      " #   Column           Non-Null Count  Dtype  \n",
      "---  ------           --------------  -----  \n",
      " 0   Gender           4232 non-null   object \n",
      " 1   age              4238 non-null   float64\n",
      " 2   education        4130 non-null   float64\n",
      " 3   currentSmoker    4237 non-null   float64\n",
      " 4   cigsPerDay       4209 non-null   float64\n",
      " 5   BP Meds          4180 non-null   float64\n",
      " 6   prevalentStroke  4231 non-null   float64\n",
      " 7   prevalentHyp     4238 non-null   float64\n",
      " 8   diabetes         4238 non-null   float64\n",
      " 9   tot cholesterol  4180 non-null   float64\n",
      " 10  Systolic BP      4236 non-null   float64\n",
      " 11  Diastolic BP     4235 non-null   float64\n",
      " 12  BMI              4216 non-null   float64\n",
      " 13  heartRate        4236 non-null   float64\n",
      " 14  glucose          3849 non-null   float64\n",
      " 15  Heart-Att        4240 non-null   int64  \n",
      "dtypes: float64(14), int64(1), object(1)\n",
      "memory usage: 530.1+ KB\n"
     ]
    }
   ],
   "source": [
    "df.info()"
   ]
  },
  {
   "cell_type": "markdown",
   "id": "promising-melbourne",
   "metadata": {},
   "source": [
    "#### checking for Possible columns which are categorical but are not having data type \"object\""
   ]
  },
  {
   "cell_type": "code",
   "execution_count": 6,
   "id": "ruled-activity",
   "metadata": {},
   "outputs": [
    {
     "data": {
      "text/plain": [
       "1.0    1717\n",
       "2.0    1252\n",
       "3.0     688\n",
       "4.0     473\n",
       "Name: education, dtype: int64"
      ]
     },
     "execution_count": 6,
     "metadata": {},
     "output_type": "execute_result"
    }
   ],
   "source": [
    "df['education'].value_counts()"
   ]
  },
  {
   "cell_type": "code",
   "execution_count": 7,
   "id": "english-expansion",
   "metadata": {},
   "outputs": [
    {
     "data": {
      "text/plain": [
       "0.0    2143\n",
       "1.0    2094\n",
       "Name: currentSmoker, dtype: int64"
      ]
     },
     "execution_count": 7,
     "metadata": {},
     "output_type": "execute_result"
    }
   ],
   "source": [
    "df['currentSmoker'].value_counts()"
   ]
  },
  {
   "cell_type": "code",
   "execution_count": 8,
   "id": "fuzzy-jumping",
   "metadata": {},
   "outputs": [
    {
     "data": {
      "text/plain": [
       "0.0    4056\n",
       "1.0     124\n",
       "Name: BP Meds, dtype: int64"
      ]
     },
     "execution_count": 8,
     "metadata": {},
     "output_type": "execute_result"
    }
   ],
   "source": [
    "df['BP Meds'].value_counts()"
   ]
  },
  {
   "cell_type": "code",
   "execution_count": 9,
   "id": "mediterranean-memphis",
   "metadata": {},
   "outputs": [
    {
     "data": {
      "text/plain": [
       "0.0    4206\n",
       "1.0      25\n",
       "Name: prevalentStroke, dtype: int64"
      ]
     },
     "execution_count": 9,
     "metadata": {},
     "output_type": "execute_result"
    }
   ],
   "source": [
    "df['prevalentStroke'].value_counts()"
   ]
  },
  {
   "cell_type": "code",
   "execution_count": 10,
   "id": "prescribed-february",
   "metadata": {},
   "outputs": [
    {
     "data": {
      "text/plain": [
       "0.0    2922\n",
       "1.0    1316\n",
       "Name: prevalentHyp, dtype: int64"
      ]
     },
     "execution_count": 10,
     "metadata": {},
     "output_type": "execute_result"
    }
   ],
   "source": [
    "df['prevalentHyp'].value_counts()"
   ]
  },
  {
   "cell_type": "code",
   "execution_count": 11,
   "id": "surprising-spank",
   "metadata": {},
   "outputs": [
    {
     "data": {
      "text/plain": [
       "0.0    4129\n",
       "1.0     109\n",
       "Name: diabetes, dtype: int64"
      ]
     },
     "execution_count": 11,
     "metadata": {},
     "output_type": "execute_result"
    }
   ],
   "source": [
    "df['diabetes'].value_counts()"
   ]
  },
  {
   "cell_type": "code",
   "execution_count": 12,
   "id": "whole-burst",
   "metadata": {},
   "outputs": [
    {
     "data": {
      "text/plain": [
       "0    3596\n",
       "1     644\n",
       "Name: Heart-Att, dtype: int64"
      ]
     },
     "execution_count": 12,
     "metadata": {},
     "output_type": "execute_result"
    }
   ],
   "source": [
    "df['Heart-Att'].value_counts()"
   ]
  },
  {
   "cell_type": "markdown",
   "id": "minor-right",
   "metadata": {},
   "source": [
    "### Change the data types of these 7 features "
   ]
  },
  {
   "cell_type": "code",
   "execution_count": 13,
   "id": "alone-prisoner",
   "metadata": {},
   "outputs": [],
   "source": [
    "cat=[\"education\",\"currentSmoker\",\"BP Meds\",\"prevalentStroke\",\"prevalentHyp\",\"diabetes\"]"
   ]
  },
  {
   "cell_type": "code",
   "execution_count": 14,
   "id": "involved-citizen",
   "metadata": {},
   "outputs": [],
   "source": [
    "for i in cat:\n",
    "    df[i]=df[i].astype(\"object\")"
   ]
  },
  {
   "cell_type": "code",
   "execution_count": 15,
   "id": "personal-witness",
   "metadata": {},
   "outputs": [
    {
     "name": "stdout",
     "output_type": "stream",
     "text": [
      "<class 'pandas.core.frame.DataFrame'>\n",
      "RangeIndex: 4240 entries, 0 to 4239\n",
      "Data columns (total 16 columns):\n",
      " #   Column           Non-Null Count  Dtype  \n",
      "---  ------           --------------  -----  \n",
      " 0   Gender           4232 non-null   object \n",
      " 1   age              4238 non-null   float64\n",
      " 2   education        4130 non-null   object \n",
      " 3   currentSmoker    4237 non-null   object \n",
      " 4   cigsPerDay       4209 non-null   float64\n",
      " 5   BP Meds          4180 non-null   object \n",
      " 6   prevalentStroke  4231 non-null   object \n",
      " 7   prevalentHyp     4238 non-null   object \n",
      " 8   diabetes         4238 non-null   object \n",
      " 9   tot cholesterol  4180 non-null   float64\n",
      " 10  Systolic BP      4236 non-null   float64\n",
      " 11  Diastolic BP     4235 non-null   float64\n",
      " 12  BMI              4216 non-null   float64\n",
      " 13  heartRate        4236 non-null   float64\n",
      " 14  glucose          3849 non-null   float64\n",
      " 15  Heart-Att        4240 non-null   int64  \n",
      "dtypes: float64(8), int64(1), object(7)\n",
      "memory usage: 530.1+ KB\n"
     ]
    }
   ],
   "source": [
    "df.info()"
   ]
  },
  {
   "cell_type": "markdown",
   "id": "vertical-ocean",
   "metadata": {},
   "source": [
    "### Let's rename columns to remove space before we impute"
   ]
  },
  {
   "cell_type": "code",
   "execution_count": 16,
   "id": "retained-character",
   "metadata": {},
   "outputs": [],
   "source": [
    "df.rename(columns = {\"BP Meds\": \"BPMeds\",\"tot cholesterol\": \"tot_cholesterol\",\"Systolic BP\":\"Systolic_BP\",\"Diastolic BP\":\"Diastolic_BP\"},inplace=True)"
   ]
  },
  {
   "cell_type": "markdown",
   "id": "ecological-single",
   "metadata": {},
   "source": [
    "### Making different list for categorical columns and numerical columns"
   ]
  },
  {
   "cell_type": "code",
   "execution_count": 17,
   "id": "personal-advocacy",
   "metadata": {},
   "outputs": [
    {
     "name": "stdout",
     "output_type": "stream",
     "text": [
      "['Gender', 'education', 'currentSmoker', 'BPMeds', 'prevalentStroke', 'prevalentHyp', 'diabetes']\n",
      "['age', 'cigsPerDay', 'tot_cholesterol', 'Systolic_BP', 'Diastolic_BP', 'BMI', 'heartRate', 'glucose', 'Heart-Att']\n"
     ]
    }
   ],
   "source": [
    "cat=[]\n",
    "num=[]\n",
    "for i in df.columns:\n",
    "    if df[i].dtype==\"object\":\n",
    "        cat.append(i)\n",
    "    else:\n",
    "        num.append(i)\n",
    "print(cat) \n",
    "print(num)"
   ]
  },
  {
   "cell_type": "markdown",
   "id": "quick-stephen",
   "metadata": {},
   "source": [
    "### Describe for numerical and categorical columns"
   ]
  },
  {
   "cell_type": "code",
   "execution_count": 18,
   "id": "afraid-complaint",
   "metadata": {},
   "outputs": [
    {
     "data": {
      "text/html": [
       "<div>\n",
       "<style scoped>\n",
       "    .dataframe tbody tr th:only-of-type {\n",
       "        vertical-align: middle;\n",
       "    }\n",
       "\n",
       "    .dataframe tbody tr th {\n",
       "        vertical-align: top;\n",
       "    }\n",
       "\n",
       "    .dataframe thead th {\n",
       "        text-align: right;\n",
       "    }\n",
       "</style>\n",
       "<table border=\"1\" class=\"dataframe\">\n",
       "  <thead>\n",
       "    <tr style=\"text-align: right;\">\n",
       "      <th></th>\n",
       "      <th>count</th>\n",
       "      <th>mean</th>\n",
       "      <th>std</th>\n",
       "      <th>min</th>\n",
       "      <th>25%</th>\n",
       "      <th>50%</th>\n",
       "      <th>75%</th>\n",
       "      <th>max</th>\n",
       "    </tr>\n",
       "  </thead>\n",
       "  <tbody>\n",
       "    <tr>\n",
       "      <th>age</th>\n",
       "      <td>4238.0</td>\n",
       "      <td>49.579283</td>\n",
       "      <td>8.572875</td>\n",
       "      <td>32.00</td>\n",
       "      <td>42.00</td>\n",
       "      <td>49.000</td>\n",
       "      <td>56.00</td>\n",
       "      <td>70.0</td>\n",
       "    </tr>\n",
       "    <tr>\n",
       "      <th>cigsPerDay</th>\n",
       "      <td>4209.0</td>\n",
       "      <td>9.001901</td>\n",
       "      <td>11.920742</td>\n",
       "      <td>0.00</td>\n",
       "      <td>0.00</td>\n",
       "      <td>0.000</td>\n",
       "      <td>20.00</td>\n",
       "      <td>70.0</td>\n",
       "    </tr>\n",
       "    <tr>\n",
       "      <th>tot_cholesterol</th>\n",
       "      <td>4180.0</td>\n",
       "      <td>236.677273</td>\n",
       "      <td>44.616098</td>\n",
       "      <td>107.00</td>\n",
       "      <td>206.00</td>\n",
       "      <td>234.000</td>\n",
       "      <td>263.00</td>\n",
       "      <td>696.0</td>\n",
       "    </tr>\n",
       "    <tr>\n",
       "      <th>Systolic_BP</th>\n",
       "      <td>4236.0</td>\n",
       "      <td>132.362370</td>\n",
       "      <td>22.039244</td>\n",
       "      <td>83.50</td>\n",
       "      <td>117.00</td>\n",
       "      <td>128.000</td>\n",
       "      <td>144.00</td>\n",
       "      <td>295.0</td>\n",
       "    </tr>\n",
       "    <tr>\n",
       "      <th>Diastolic_BP</th>\n",
       "      <td>4235.0</td>\n",
       "      <td>82.901889</td>\n",
       "      <td>11.914467</td>\n",
       "      <td>48.00</td>\n",
       "      <td>75.00</td>\n",
       "      <td>82.000</td>\n",
       "      <td>90.00</td>\n",
       "      <td>142.5</td>\n",
       "    </tr>\n",
       "    <tr>\n",
       "      <th>BMI</th>\n",
       "      <td>4216.0</td>\n",
       "      <td>25.798916</td>\n",
       "      <td>4.075256</td>\n",
       "      <td>15.54</td>\n",
       "      <td>23.07</td>\n",
       "      <td>25.395</td>\n",
       "      <td>28.04</td>\n",
       "      <td>56.8</td>\n",
       "    </tr>\n",
       "    <tr>\n",
       "      <th>heartRate</th>\n",
       "      <td>4236.0</td>\n",
       "      <td>75.867800</td>\n",
       "      <td>11.999488</td>\n",
       "      <td>44.00</td>\n",
       "      <td>68.00</td>\n",
       "      <td>75.000</td>\n",
       "      <td>83.00</td>\n",
       "      <td>143.0</td>\n",
       "    </tr>\n",
       "    <tr>\n",
       "      <th>glucose</th>\n",
       "      <td>3849.0</td>\n",
       "      <td>81.951936</td>\n",
       "      <td>23.958428</td>\n",
       "      <td>40.00</td>\n",
       "      <td>71.00</td>\n",
       "      <td>78.000</td>\n",
       "      <td>87.00</td>\n",
       "      <td>394.0</td>\n",
       "    </tr>\n",
       "    <tr>\n",
       "      <th>Heart-Att</th>\n",
       "      <td>4240.0</td>\n",
       "      <td>0.151887</td>\n",
       "      <td>0.358953</td>\n",
       "      <td>0.00</td>\n",
       "      <td>0.00</td>\n",
       "      <td>0.000</td>\n",
       "      <td>0.00</td>\n",
       "      <td>1.0</td>\n",
       "    </tr>\n",
       "  </tbody>\n",
       "</table>\n",
       "</div>"
      ],
      "text/plain": [
       "                  count        mean        std     min     25%      50%  \\\n",
       "age              4238.0   49.579283   8.572875   32.00   42.00   49.000   \n",
       "cigsPerDay       4209.0    9.001901  11.920742    0.00    0.00    0.000   \n",
       "tot_cholesterol  4180.0  236.677273  44.616098  107.00  206.00  234.000   \n",
       "Systolic_BP      4236.0  132.362370  22.039244   83.50  117.00  128.000   \n",
       "Diastolic_BP     4235.0   82.901889  11.914467   48.00   75.00   82.000   \n",
       "BMI              4216.0   25.798916   4.075256   15.54   23.07   25.395   \n",
       "heartRate        4236.0   75.867800  11.999488   44.00   68.00   75.000   \n",
       "glucose          3849.0   81.951936  23.958428   40.00   71.00   78.000   \n",
       "Heart-Att        4240.0    0.151887   0.358953    0.00    0.00    0.000   \n",
       "\n",
       "                    75%    max  \n",
       "age               56.00   70.0  \n",
       "cigsPerDay        20.00   70.0  \n",
       "tot_cholesterol  263.00  696.0  \n",
       "Systolic_BP      144.00  295.0  \n",
       "Diastolic_BP      90.00  142.5  \n",
       "BMI               28.04   56.8  \n",
       "heartRate         83.00  143.0  \n",
       "glucose           87.00  394.0  \n",
       "Heart-Att          0.00    1.0  "
      ]
     },
     "execution_count": 18,
     "metadata": {},
     "output_type": "execute_result"
    }
   ],
   "source": [
    "df[num].describe().T"
   ]
  },
  {
   "cell_type": "code",
   "execution_count": 19,
   "id": "intense-queensland",
   "metadata": {},
   "outputs": [
    {
     "data": {
      "text/html": [
       "<div>\n",
       "<style scoped>\n",
       "    .dataframe tbody tr th:only-of-type {\n",
       "        vertical-align: middle;\n",
       "    }\n",
       "\n",
       "    .dataframe tbody tr th {\n",
       "        vertical-align: top;\n",
       "    }\n",
       "\n",
       "    .dataframe thead th {\n",
       "        text-align: right;\n",
       "    }\n",
       "</style>\n",
       "<table border=\"1\" class=\"dataframe\">\n",
       "  <thead>\n",
       "    <tr style=\"text-align: right;\">\n",
       "      <th></th>\n",
       "      <th>count</th>\n",
       "      <th>unique</th>\n",
       "      <th>top</th>\n",
       "      <th>freq</th>\n",
       "    </tr>\n",
       "  </thead>\n",
       "  <tbody>\n",
       "    <tr>\n",
       "      <th>Gender</th>\n",
       "      <td>4232</td>\n",
       "      <td>2</td>\n",
       "      <td>Female</td>\n",
       "      <td>2414</td>\n",
       "    </tr>\n",
       "    <tr>\n",
       "      <th>education</th>\n",
       "      <td>4130.0</td>\n",
       "      <td>4.0</td>\n",
       "      <td>1.0</td>\n",
       "      <td>1717.0</td>\n",
       "    </tr>\n",
       "    <tr>\n",
       "      <th>currentSmoker</th>\n",
       "      <td>4237.0</td>\n",
       "      <td>2.0</td>\n",
       "      <td>0.0</td>\n",
       "      <td>2143.0</td>\n",
       "    </tr>\n",
       "    <tr>\n",
       "      <th>BPMeds</th>\n",
       "      <td>4180.0</td>\n",
       "      <td>2.0</td>\n",
       "      <td>0.0</td>\n",
       "      <td>4056.0</td>\n",
       "    </tr>\n",
       "    <tr>\n",
       "      <th>prevalentStroke</th>\n",
       "      <td>4231.0</td>\n",
       "      <td>2.0</td>\n",
       "      <td>0.0</td>\n",
       "      <td>4206.0</td>\n",
       "    </tr>\n",
       "    <tr>\n",
       "      <th>prevalentHyp</th>\n",
       "      <td>4238.0</td>\n",
       "      <td>2.0</td>\n",
       "      <td>0.0</td>\n",
       "      <td>2922.0</td>\n",
       "    </tr>\n",
       "    <tr>\n",
       "      <th>diabetes</th>\n",
       "      <td>4238.0</td>\n",
       "      <td>2.0</td>\n",
       "      <td>0.0</td>\n",
       "      <td>4129.0</td>\n",
       "    </tr>\n",
       "  </tbody>\n",
       "</table>\n",
       "</div>"
      ],
      "text/plain": [
       "                  count unique     top    freq\n",
       "Gender             4232      2  Female    2414\n",
       "education        4130.0    4.0     1.0  1717.0\n",
       "currentSmoker    4237.0    2.0     0.0  2143.0\n",
       "BPMeds           4180.0    2.0     0.0  4056.0\n",
       "prevalentStroke  4231.0    2.0     0.0  4206.0\n",
       "prevalentHyp     4238.0    2.0     0.0  2922.0\n",
       "diabetes         4238.0    2.0     0.0  4129.0"
      ]
     },
     "execution_count": 19,
     "metadata": {},
     "output_type": "execute_result"
    }
   ],
   "source": [
    "df[cat].describe().T"
   ]
  },
  {
   "cell_type": "markdown",
   "id": "beautiful-tumor",
   "metadata": {},
   "source": [
    "### unique values for categorical variables"
   ]
  },
  {
   "cell_type": "code",
   "execution_count": 20,
   "id": "administrative-bolivia",
   "metadata": {},
   "outputs": [
    {
     "name": "stdout",
     "output_type": "stream",
     "text": [
      "GENDER :  2\n",
      "Male      1818\n",
      "Female    2414\n",
      "Name: Gender, dtype: int64\n",
      "\n",
      "\n",
      "EDUCATION :  4\n",
      "4.0     473\n",
      "3.0     688\n",
      "2.0    1252\n",
      "1.0    1717\n",
      "Name: education, dtype: int64\n",
      "\n",
      "\n",
      "CURRENTSMOKER :  2\n",
      "1.0    2094\n",
      "0.0    2143\n",
      "Name: currentSmoker, dtype: int64\n",
      "\n",
      "\n",
      "BPMEDS :  2\n",
      "1.0     124\n",
      "0.0    4056\n",
      "Name: BPMeds, dtype: int64\n",
      "\n",
      "\n",
      "PREVALENTSTROKE :  2\n",
      "1.0      25\n",
      "0.0    4206\n",
      "Name: prevalentStroke, dtype: int64\n",
      "\n",
      "\n",
      "PREVALENTHYP :  2\n",
      "1.0    1316\n",
      "0.0    2922\n",
      "Name: prevalentHyp, dtype: int64\n",
      "\n",
      "\n",
      "DIABETES :  2\n",
      "1.0     109\n",
      "0.0    4129\n",
      "Name: diabetes, dtype: int64\n",
      "\n",
      "\n"
     ]
    }
   ],
   "source": [
    "for column in df.columns:\n",
    "    if df[column].dtype == 'object':\n",
    "        print(column.upper(),': ',df[column].nunique())\n",
    "        print(df[column].value_counts().sort_values())\n",
    "        print('\\n')"
   ]
  },
  {
   "cell_type": "markdown",
   "id": "dried-universal",
   "metadata": {},
   "source": [
    "### Missing Value"
   ]
  },
  {
   "cell_type": "code",
   "execution_count": 21,
   "id": "specified-competition",
   "metadata": {},
   "outputs": [
    {
     "data": {
      "text/plain": [
       "Gender               8\n",
       "age                  2\n",
       "education          110\n",
       "currentSmoker        3\n",
       "cigsPerDay          31\n",
       "BPMeds              60\n",
       "prevalentStroke      9\n",
       "prevalentHyp         2\n",
       "diabetes             2\n",
       "tot_cholesterol     60\n",
       "Systolic_BP          4\n",
       "Diastolic_BP         5\n",
       "BMI                 24\n",
       "heartRate            4\n",
       "glucose            391\n",
       "Heart-Att            0\n",
       "dtype: int64"
      ]
     },
     "execution_count": 21,
     "metadata": {},
     "output_type": "execute_result"
    }
   ],
   "source": [
    "df.isnull().sum()"
   ]
  },
  {
   "cell_type": "markdown",
   "id": "enormous-tutorial",
   "metadata": {},
   "source": [
    "### Imputation of all missing values with the bext possible option"
   ]
  },
  {
   "cell_type": "code",
   "execution_count": 22,
   "id": "mental-canberra",
   "metadata": {},
   "outputs": [
    {
     "data": {
      "text/plain": [
       "0    Female\n",
       "dtype: object"
      ]
     },
     "execution_count": 22,
     "metadata": {},
     "output_type": "execute_result"
    }
   ],
   "source": [
    "df.Gender.mode()"
   ]
  },
  {
   "cell_type": "code",
   "execution_count": 23,
   "id": "piano-chinese",
   "metadata": {},
   "outputs": [],
   "source": [
    "df.Gender=df.Gender.fillna(\"Female\")"
   ]
  },
  {
   "cell_type": "markdown",
   "id": "numerous-sucking",
   "metadata": {},
   "source": [
    "Imputing the object variables in a loop using mode. Important to note that after imputation these variables will become numeric as the imputation values are numbers and hence the same needs to be converted in to object one more time."
   ]
  },
  {
   "cell_type": "code",
   "execution_count": 24,
   "id": "important-religion",
   "metadata": {},
   "outputs": [],
   "source": [
    "for column in ['education','currentSmoker','BPMeds','prevalentStroke','prevalentHyp','diabetes']:\n",
    "    df[column].fillna(df[column].mode()[0], inplace=True)"
   ]
  },
  {
   "cell_type": "code",
   "execution_count": 25,
   "id": "applied-object",
   "metadata": {},
   "outputs": [],
   "source": [
    "cat1=[\"education\",\"currentSmoker\",\"BPMeds\",\"prevalentStroke\",\"prevalentHyp\",\"diabetes\"]"
   ]
  },
  {
   "cell_type": "code",
   "execution_count": 26,
   "id": "dynamic-murder",
   "metadata": {},
   "outputs": [],
   "source": [
    "for i in cat1:\n",
    "    df[i]=df[i].astype(\"object\")"
   ]
  },
  {
   "cell_type": "markdown",
   "id": "young-imagination",
   "metadata": {},
   "source": [
    "Note: To treat missing value for numerical data we need go either with mean or median. now if there is no outlier then we caan take as mean but if there is an outlier then we have to take median"
   ]
  },
  {
   "cell_type": "markdown",
   "id": "primary-gardening",
   "metadata": {},
   "source": [
    "### Checking for outliers"
   ]
  },
  {
   "cell_type": "code",
   "execution_count": 27,
   "id": "charming-funds",
   "metadata": {},
   "outputs": [
    {
     "data": {
      "image/png": "[encoded data removed]",
      "text/plain": [
       "<Figure size 800x800 with 1 Axes>"
      ]
     },
     "metadata": {},
     "output_type": "display_data"
    }
   ],
   "source": [
    "# construct box plot for continuous variables\n",
    "plt.figure(figsize=(10,10))\n",
    "df.boxplot(vert=0)\n",
    "plt.show()"
   ]
  },
  {
   "cell_type": "markdown",
   "id": "respected-cycle",
   "metadata": {},
   "source": [
    "No possible outliers are present here in \"age\", we will use mean to impute null values in \"age\" column"
   ]
  },
  {
   "cell_type": "code",
   "execution_count": 28,
   "id": "crude-lottery",
   "metadata": {},
   "outputs": [],
   "source": [
    "df.age=df.age.fillna(df.age.mean())"
   ]
  },
  {
   "cell_type": "markdown",
   "id": "valuable-charter",
   "metadata": {},
   "source": [
    "All other variables have possible ouliers and hence median would be used for imputaiton"
   ]
  },
  {
   "cell_type": "code",
   "execution_count": 29,
   "id": "compressed-craps",
   "metadata": {},
   "outputs": [],
   "source": [
    "impute=['cigsPerDay','tot_cholesterol','Systolic_BP','Diastolic_BP','BMI','heartRate','glucose']"
   ]
  },
  {
   "cell_type": "code",
   "execution_count": 30,
   "id": "prompt-reward",
   "metadata": {},
   "outputs": [],
   "source": [
    "for i in impute:\n",
    "    df[i].fillna(df[i].median(),inplace=True)"
   ]
  },
  {
   "cell_type": "code",
   "execution_count": 31,
   "id": "affected-tanzania",
   "metadata": {},
   "outputs": [
    {
     "data": {
      "text/plain": [
       "Gender             0\n",
       "age                0\n",
       "education          0\n",
       "currentSmoker      0\n",
       "cigsPerDay         0\n",
       "BPMeds             0\n",
       "prevalentStroke    0\n",
       "prevalentHyp       0\n",
       "diabetes           0\n",
       "tot_cholesterol    0\n",
       "Systolic_BP        0\n",
       "Diastolic_BP       0\n",
       "BMI                0\n",
       "heartRate          0\n",
       "glucose            0\n",
       "Heart-Att          0\n",
       "dtype: int64"
      ]
     },
     "execution_count": 31,
     "metadata": {},
     "output_type": "execute_result"
    }
   ],
   "source": [
    "df.isnull().sum()"
   ]
  },
  {
   "cell_type": "code",
   "execution_count": 32,
   "id": "classified-joint",
   "metadata": {},
   "outputs": [
    {
     "name": "stdout",
     "output_type": "stream",
     "text": [
      "<class 'pandas.core.frame.DataFrame'>\n",
      "RangeIndex: 4240 entries, 0 to 4239\n",
      "Data columns (total 16 columns):\n",
      " #   Column           Non-Null Count  Dtype  \n",
      "---  ------           --------------  -----  \n",
      " 0   Gender           4240 non-null   object \n",
      " 1   age              4240 non-null   float64\n",
      " 2   education        4240 non-null   object \n",
      " 3   currentSmoker    4240 non-null   object \n",
      " 4   cigsPerDay       4240 non-null   float64\n",
      " 5   BPMeds           4240 non-null   object \n",
      " 6   prevalentStroke  4240 non-null   object \n",
      " 7   prevalentHyp     4240 non-null   object \n",
      " 8   diabetes         4240 non-null   object \n",
      " 9   tot_cholesterol  4240 non-null   float64\n",
      " 10  Systolic_BP      4240 non-null   float64\n",
      " 11  Diastolic_BP     4240 non-null   float64\n",
      " 12  BMI              4240 non-null   float64\n",
      " 13  heartRate        4240 non-null   float64\n",
      " 14  glucose          4240 non-null   float64\n",
      " 15  Heart-Att        4240 non-null   int64  \n",
      "dtypes: float64(8), int64(1), object(7)\n",
      "memory usage: 530.1+ KB\n"
     ]
    }
   ],
   "source": [
    "## Recheck the info\n",
    "df.info()"
   ]
  },
  {
   "cell_type": "markdown",
   "id": "moved-rouge",
   "metadata": {},
   "source": [
    "### Check for duplicate data"
   ]
  },
  {
   "cell_type": "code",
   "execution_count": 33,
   "id": "greatest-clear",
   "metadata": {},
   "outputs": [
    {
     "name": "stdout",
     "output_type": "stream",
     "text": [
      "Number of duplicate rows = 0\n"
     ]
    }
   ],
   "source": [
    "dups = df.duplicated()\n",
    "print('Number of duplicate rows = %d' % (dups.sum()))"
   ]
  },
  {
   "cell_type": "code",
   "execution_count": null,
   "id": "official-packing",
   "metadata": {},
   "outputs": [],
   "source": []
  },
  {
   "cell_type": "code",
   "execution_count": 34,
   "id": "absent-floating",
   "metadata": {},
   "outputs": [
    {
     "name": "stdout",
     "output_type": "stream",
     "text": [
      "\n",
      "\n",
      "feature: Gender\n",
      "['Male', 'Female']\n",
      "Categories (2, object): ['Female', 'Male']\n",
      "[1 0]\n",
      "\n",
      "\n",
      "feature: education\n",
      "[4.0, 2.0, 1.0, 3.0]\n",
      "Categories (4, float64): [1.0, 2.0, 3.0, 4.0]\n",
      "[3 1 0 2]\n",
      "\n",
      "\n",
      "feature: currentSmoker\n",
      "[0.0, 1.0]\n",
      "Categories (2, float64): [0.0, 1.0]\n",
      "[0 1]\n",
      "\n",
      "\n",
      "feature: BPMeds\n",
      "[0.0, 1.0]\n",
      "Categories (2, float64): [0.0, 1.0]\n",
      "[0 1]\n",
      "\n",
      "\n",
      "feature: prevalentStroke\n",
      "[0.0, 1.0]\n",
      "Categories (2, float64): [0.0, 1.0]\n",
      "[0 1]\n",
      "\n",
      "\n",
      "feature: prevalentHyp\n",
      "[0.0, 1.0]\n",
      "Categories (2, float64): [0.0, 1.0]\n",
      "[0 1]\n",
      "\n",
      "\n",
      "feature: diabetes\n",
      "[0.0, 1.0]\n",
      "Categories (2, float64): [0.0, 1.0]\n",
      "[0 1]\n"
     ]
    }
   ],
   "source": [
    "for feature in df.columns: \n",
    "    if df[feature].dtype == 'object': \n",
    "        print('\\n')\n",
    "        print('feature:',feature)\n",
    "        print(pd.Categorical(df[feature].unique()))\n",
    "        print(pd.Categorical(df[feature].unique()).codes)\n",
    "        df[feature] = pd.Categorical(df[feature]).codes"
   ]
  },
  {
   "cell_type": "markdown",
   "id": "divine-style",
   "metadata": {},
   "source": [
    "### Outlier Checks And Treatment"
   ]
  },
  {
   "cell_type": "code",
   "execution_count": 35,
   "id": "amended-trick",
   "metadata": {},
   "outputs": [
    {
     "data": {
      "image/png": "[encoded data removed]",
      "text/plain": [
       "<Figure size 800x800 with 1 Axes>"
      ]
     },
     "metadata": {},
     "output_type": "display_data"
    }
   ],
   "source": [
    "# construct box plot for continuous variables\n",
    "plt.figure(figsize=(10,10))\n",
    "df[num].boxplot(vert=0)\n",
    "plt.show()"
   ]
  },
  {
   "cell_type": "markdown",
   "id": "geographic-growing",
   "metadata": {},
   "source": [
    "### For categorical data"
   ]
  },
  {
   "cell_type": "code",
   "execution_count": 36,
   "id": "cardiac-cream",
   "metadata": {},
   "outputs": [
    {
     "data": {
      "image/png": "[encoded data removed]",
      "text/plain": [
       "<Figure size 800x800 with 1 Axes>"
      ]
     },
     "metadata": {},
     "output_type": "display_data"
    }
   ],
   "source": [
    "# construct box plot for continuous variables\n",
    "plt.figure(figsize=(10,10))\n",
    "df[cat].boxplot(vert=0)\n",
    "plt.show()"
   ]
  },
  {
   "cell_type": "code",
   "execution_count": 46,
   "id": "outside-month",
   "metadata": {},
   "outputs": [],
   "source": [
    "def remove_outlier(col):\n",
    "    sorted(col)\n",
    "    Q1,Q3=col.quantile([0.25,0.75])\n",
    "    IQR=Q3-Q1\n",
    "    lower_range= Q1-(1.5 * IQR)\n",
    "    upper_range= Q3+(1.5 * IQR)\n",
    "    return lower_range, upper_range  "
   ]
  },
  {
   "cell_type": "code",
   "execution_count": 48,
   "id": "atmospheric-preserve",
   "metadata": {},
   "outputs": [
    {
     "data": {
      "text/plain": [
       "Index(['age', 'cigsPerDay', 'tot_cholesterol', 'Systolic_BP', 'Diastolic_BP',\n",
       "       'BMI', 'heartRate', 'glucose', 'Heart-Att'],\n",
       "      dtype='object')"
      ]
     },
     "execution_count": 48,
     "metadata": {},
     "output_type": "execute_result"
    }
   ],
   "source": [
    "df[num].columns"
   ]
  },
  {
   "cell_type": "code",
   "execution_count": 51,
   "id": "korean-stability",
   "metadata": {},
   "outputs": [],
   "source": [
    "lrincome,urincome=remove_outlier(df[num]['cigsPerDay'])\n",
    "df['cigsPerDay']=np.where(df[num]['cigsPerDay']>urincome,urincome,df[num]['cigsPerDay'])\n",
    "df['cigsPerDay']=np.where(df[num]['cigsPerDay']<lrincome,lrincome,df[num]['cigsPerDay'])\n",
    "\n",
    "lrincome,urincome=remove_outlier(df[num]['tot_cholesterol'])\n",
    "df['tot_cholesterol']=np.where(df[num]['tot_cholesterol']>urincome,urincome,df[num]['tot_cholesterol'])\n",
    "df['tot_cholesterol']=np.where(df[num]['tot_cholesterol']<lrincome,lrincome,df[num]['tot_cholesterol'])\n",
    "\n",
    "lrincome,urincome=remove_outlier(df[num]['Systolic_BP'])\n",
    "df['Systolic_BP']=np.where(df[num]['Systolic_BP']>urincome,urincome,df[num]['Systolic_BP'])\n",
    "df['Systolic_BP']=np.where(df[num]['Systolic_BP']<lrincome,lrincome,df[num]['Systolic_BP'])\n",
    "\n",
    "lrincome,urincome=remove_outlier(df[num]['Diastolic_BP'])\n",
    "df['Diastolic_BP']=np.where(df[num]['Diastolic_BP']>urincome,urincome,df[num]['Diastolic_BP'])\n",
    "df['Diastolic_BP']=np.where(df[num]['Diastolic_BP']<lrincome,lrincome,df[num]['Diastolic_BP'])\n",
    "\n",
    "lrincome,urincome=remove_outlier(df[num]['BMI'])\n",
    "df['BMI']=np.where(df[num]['BMI']>urincome,urincome,df[num]['BMI'])\n",
    "df['BMI']=np.where(df[num]['BMI']<lrincome,lrincome,df[num]['BMI'])\n",
    "\n",
    "lrincome,urincome=remove_outlier(df[num]['heartRate'])\n",
    "df['heartRate']=np.where(df[num]['heartRate']>urincome,urincome,df[num]['heartRate'])\n",
    "df['heartRate']=np.where(df[num]['heartRate']<lrincome,lrincome,df[num]['heartRate'])\n",
    "\n",
    "lrincome,urincome=remove_outlier(df[num]['glucose'])\n",
    "df['glucose']=np.where(df[num]['glucose']>urincome,urincome,df[num]['glucose'])\n",
    "df['glucose']=np.where(df[num]['glucose']<lrincome,lrincome,df[num]['glucose'])"
   ]
  },
  {
   "cell_type": "code",
   "execution_count": 52,
   "id": "sitting-eagle",
   "metadata": {},
   "outputs": [
    {
     "data": {
      "image/png": "[encoded data removed]",
      "text/plain": [
       "<Figure size 1600x800 with 1 Axes>"
      ]
     },
     "metadata": {},
     "output_type": "display_data"
    }
   ],
   "source": [
    "df.boxplot(figsize=(20,10))\n",
    "plt.xticks(rotation=90)\n",
    "plt.show()"
   ]
  },
  {
   "cell_type": "markdown",
   "id": "focal-activation",
   "metadata": {},
   "source": [
    "### Scaling the variables as continuous variables have different weightage using min-max technique"
   ]
  },
  {
   "cell_type": "code",
   "execution_count": 53,
   "id": "adapted-israeli",
   "metadata": {},
   "outputs": [],
   "source": [
    "df = df.apply(lambda x:(x-x.min()) / (x.max()-x.min()))"
   ]
  },
  {
   "cell_type": "code",
   "execution_count": 55,
   "id": "steady-executive",
   "metadata": {},
   "outputs": [
    {
     "data": {
      "text/html": [
       "<div>\n",
       "<style scoped>\n",
       "    .dataframe tbody tr th:only-of-type {\n",
       "        vertical-align: middle;\n",
       "    }\n",
       "\n",
       "    .dataframe tbody tr th {\n",
       "        vertical-align: top;\n",
       "    }\n",
       "\n",
       "    .dataframe thead th {\n",
       "        text-align: right;\n",
       "    }\n",
       "</style>\n",
       "<table border=\"1\" class=\"dataframe\">\n",
       "  <thead>\n",
       "    <tr style=\"text-align: right;\">\n",
       "      <th></th>\n",
       "      <th>Gender</th>\n",
       "      <th>age</th>\n",
       "      <th>education</th>\n",
       "      <th>currentSmoker</th>\n",
       "      <th>cigsPerDay</th>\n",
       "      <th>BPMeds</th>\n",
       "      <th>prevalentStroke</th>\n",
       "      <th>prevalentHyp</th>\n",
       "      <th>diabetes</th>\n",
       "      <th>tot_cholesterol</th>\n",
       "      <th>Systolic_BP</th>\n",
       "      <th>Diastolic_BP</th>\n",
       "      <th>BMI</th>\n",
       "      <th>heartRate</th>\n",
       "      <th>glucose</th>\n",
       "      <th>Heart-Att</th>\n",
       "    </tr>\n",
       "  </thead>\n",
       "  <tbody>\n",
       "    <tr>\n",
       "      <th>0</th>\n",
       "      <td>1.0</td>\n",
       "      <td>0.184211</td>\n",
       "      <td>1.000000</td>\n",
       "      <td>0.0</td>\n",
       "      <td>0.00</td>\n",
       "      <td>0.0</td>\n",
       "      <td>0.0</td>\n",
       "      <td>0.0</td>\n",
       "      <td>0.0</td>\n",
       "      <td>0.325893</td>\n",
       "      <td>0.222772</td>\n",
       "      <td>0.289530</td>\n",
       "      <td>0.571862</td>\n",
       "      <td>0.575000</td>\n",
       "      <td>0.471154</td>\n",
       "      <td>0.0</td>\n",
       "    </tr>\n",
       "    <tr>\n",
       "      <th>1</th>\n",
       "      <td>0.0</td>\n",
       "      <td>0.368421</td>\n",
       "      <td>0.333333</td>\n",
       "      <td>0.0</td>\n",
       "      <td>0.00</td>\n",
       "      <td>0.0</td>\n",
       "      <td>0.0</td>\n",
       "      <td>0.0</td>\n",
       "      <td>0.0</td>\n",
       "      <td>0.571429</td>\n",
       "      <td>0.371287</td>\n",
       "      <td>0.477564</td>\n",
       "      <td>0.660931</td>\n",
       "      <td>0.825000</td>\n",
       "      <td>0.451923</td>\n",
       "      <td>0.0</td>\n",
       "    </tr>\n",
       "    <tr>\n",
       "      <th>2</th>\n",
       "      <td>1.0</td>\n",
       "      <td>0.421053</td>\n",
       "      <td>0.000000</td>\n",
       "      <td>1.0</td>\n",
       "      <td>0.40</td>\n",
       "      <td>0.0</td>\n",
       "      <td>0.0</td>\n",
       "      <td>0.0</td>\n",
       "      <td>0.0</td>\n",
       "      <td>0.549107</td>\n",
       "      <td>0.435644</td>\n",
       "      <td>0.460470</td>\n",
       "      <td>0.489372</td>\n",
       "      <td>0.491667</td>\n",
       "      <td>0.336538</td>\n",
       "      <td>0.0</td>\n",
       "    </tr>\n",
       "    <tr>\n",
       "      <th>3</th>\n",
       "      <td>0.0</td>\n",
       "      <td>0.763158</td>\n",
       "      <td>0.666667</td>\n",
       "      <td>1.0</td>\n",
       "      <td>0.60</td>\n",
       "      <td>0.0</td>\n",
       "      <td>0.0</td>\n",
       "      <td>1.0</td>\n",
       "      <td>0.0</td>\n",
       "      <td>0.459821</td>\n",
       "      <td>0.658416</td>\n",
       "      <td>0.716880</td>\n",
       "      <td>0.653340</td>\n",
       "      <td>0.325000</td>\n",
       "      <td>0.971154</td>\n",
       "      <td>1.0</td>\n",
       "    </tr>\n",
       "    <tr>\n",
       "      <th>4</th>\n",
       "      <td>0.0</td>\n",
       "      <td>0.368421</td>\n",
       "      <td>0.666667</td>\n",
       "      <td>1.0</td>\n",
       "      <td>0.46</td>\n",
       "      <td>0.0</td>\n",
       "      <td>0.0</td>\n",
       "      <td>0.0</td>\n",
       "      <td>0.0</td>\n",
       "      <td>0.727679</td>\n",
       "      <td>0.460396</td>\n",
       "      <td>0.528846</td>\n",
       "      <td>0.376012</td>\n",
       "      <td>0.658333</td>\n",
       "      <td>0.625000</td>\n",
       "      <td>0.0</td>\n",
       "    </tr>\n",
       "    <tr>\n",
       "      <th>5</th>\n",
       "      <td>0.0</td>\n",
       "      <td>0.289474</td>\n",
       "      <td>0.333333</td>\n",
       "      <td>0.0</td>\n",
       "      <td>0.00</td>\n",
       "      <td>0.0</td>\n",
       "      <td>0.0</td>\n",
       "      <td>1.0</td>\n",
       "      <td>0.0</td>\n",
       "      <td>0.473214</td>\n",
       "      <td>0.955446</td>\n",
       "      <td>0.973291</td>\n",
       "      <td>0.740385</td>\n",
       "      <td>0.525000</td>\n",
       "      <td>0.894231</td>\n",
       "      <td>0.0</td>\n",
       "    </tr>\n",
       "    <tr>\n",
       "      <th>6</th>\n",
       "      <td>0.0</td>\n",
       "      <td>0.815789</td>\n",
       "      <td>0.000000</td>\n",
       "      <td>0.0</td>\n",
       "      <td>0.00</td>\n",
       "      <td>0.0</td>\n",
       "      <td>0.0</td>\n",
       "      <td>0.0</td>\n",
       "      <td>0.0</td>\n",
       "      <td>0.370536</td>\n",
       "      <td>0.539604</td>\n",
       "      <td>0.306624</td>\n",
       "      <td>0.882591</td>\n",
       "      <td>0.241667</td>\n",
       "      <td>0.625000</td>\n",
       "      <td>1.0</td>\n",
       "    </tr>\n",
       "    <tr>\n",
       "      <th>7</th>\n",
       "      <td>0.0</td>\n",
       "      <td>0.342105</td>\n",
       "      <td>0.333333</td>\n",
       "      <td>1.0</td>\n",
       "      <td>0.40</td>\n",
       "      <td>0.0</td>\n",
       "      <td>0.0</td>\n",
       "      <td>0.0</td>\n",
       "      <td>0.0</td>\n",
       "      <td>0.852679</td>\n",
       "      <td>0.163366</td>\n",
       "      <td>0.306624</td>\n",
       "      <td>0.304150</td>\n",
       "      <td>0.558333</td>\n",
       "      <td>0.490385</td>\n",
       "      <td>0.0</td>\n",
       "    </tr>\n",
       "    <tr>\n",
       "      <th>8</th>\n",
       "      <td>1.0</td>\n",
       "      <td>0.526316</td>\n",
       "      <td>0.000000</td>\n",
       "      <td>0.0</td>\n",
       "      <td>0.00</td>\n",
       "      <td>0.0</td>\n",
       "      <td>0.0</td>\n",
       "      <td>1.0</td>\n",
       "      <td>0.0</td>\n",
       "      <td>0.616071</td>\n",
       "      <td>0.574257</td>\n",
       "      <td>0.614316</td>\n",
       "      <td>0.540992</td>\n",
       "      <td>0.508333</td>\n",
       "      <td>0.509615</td>\n",
       "      <td>0.0</td>\n",
       "    </tr>\n",
       "    <tr>\n",
       "      <th>9</th>\n",
       "      <td>1.0</td>\n",
       "      <td>0.289474</td>\n",
       "      <td>0.000000</td>\n",
       "      <td>1.0</td>\n",
       "      <td>0.60</td>\n",
       "      <td>0.0</td>\n",
       "      <td>0.0</td>\n",
       "      <td>1.0</td>\n",
       "      <td>0.0</td>\n",
       "      <td>0.459821</td>\n",
       "      <td>0.777228</td>\n",
       "      <td>0.922009</td>\n",
       "      <td>0.401822</td>\n",
       "      <td>0.791667</td>\n",
       "      <td>0.682692</td>\n",
       "      <td>0.0</td>\n",
       "    </tr>\n",
       "  </tbody>\n",
       "</table>\n",
       "</div>"
      ],
      "text/plain": [
       "   Gender       age  education  currentSmoker  cigsPerDay  BPMeds  \\\n",
       "0     1.0  0.184211   1.000000            0.0        0.00     0.0   \n",
       "1     0.0  0.368421   0.333333            0.0        0.00     0.0   \n",
       "2     1.0  0.421053   0.000000            1.0        0.40     0.0   \n",
       "3     0.0  0.763158   0.666667            1.0        0.60     0.0   \n",
       "4     0.0  0.368421   0.666667            1.0        0.46     0.0   \n",
       "5     0.0  0.289474   0.333333            0.0        0.00     0.0   \n",
       "6     0.0  0.815789   0.000000            0.0        0.00     0.0   \n",
       "7     0.0  0.342105   0.333333            1.0        0.40     0.0   \n",
       "8     1.0  0.526316   0.000000            0.0        0.00     0.0   \n",
       "9     1.0  0.289474   0.000000            1.0        0.60     0.0   \n",
       "\n",
       "   prevalentStroke  prevalentHyp  diabetes  tot_cholesterol  Systolic_BP  \\\n",
       "0              0.0           0.0       0.0         0.325893     0.222772   \n",
       "1              0.0           0.0       0.0         0.571429     0.371287   \n",
       "2              0.0           0.0       0.0         0.549107     0.435644   \n",
       "3              0.0           1.0       0.0         0.459821     0.658416   \n",
       "4              0.0           0.0       0.0         0.727679     0.460396   \n",
       "5              0.0           1.0       0.0         0.473214     0.955446   \n",
       "6              0.0           0.0       0.0         0.370536     0.539604   \n",
       "7              0.0           0.0       0.0         0.852679     0.163366   \n",
       "8              0.0           1.0       0.0         0.616071     0.574257   \n",
       "9              0.0           1.0       0.0         0.459821     0.777228   \n",
       "\n",
       "   Diastolic_BP       BMI  heartRate   glucose  Heart-Att  \n",
       "0      0.289530  0.571862   0.575000  0.471154        0.0  \n",
       "1      0.477564  0.660931   0.825000  0.451923        0.0  \n",
       "2      0.460470  0.489372   0.491667  0.336538        0.0  \n",
       "3      0.716880  0.653340   0.325000  0.971154        1.0  \n",
       "4      0.528846  0.376012   0.658333  0.625000        0.0  \n",
       "5      0.973291  0.740385   0.525000  0.894231        0.0  \n",
       "6      0.306624  0.882591   0.241667  0.625000        1.0  \n",
       "7      0.306624  0.304150   0.558333  0.490385        0.0  \n",
       "8      0.614316  0.540992   0.508333  0.509615        0.0  \n",
       "9      0.922009  0.401822   0.791667  0.682692        0.0  "
      ]
     },
     "execution_count": 55,
     "metadata": {},
     "output_type": "execute_result"
    }
   ],
   "source": [
    "df.head(10)"
   ]
  },
  {
   "cell_type": "code",
   "execution_count": 58,
   "id": "inside-editing",
   "metadata": {},
   "outputs": [
    {
     "data": {
      "text/plain": [
       "array([0., 1.])"
      ]
     },
     "execution_count": 58,
     "metadata": {},
     "output_type": "execute_result"
    }
   ],
   "source": [
    "df['Heart-Att'].unique()"
   ]
  },
  {
   "cell_type": "code",
   "execution_count": 43,
   "id": "beautiful-utility",
   "metadata": {},
   "outputs": [
    {
     "name": "stdout",
     "output_type": "stream",
     "text": [
      "<class 'pandas.core.frame.DataFrame'>\n",
      "RangeIndex: 4240 entries, 0 to 4239\n",
      "Data columns (total 16 columns):\n",
      " #   Column           Non-Null Count  Dtype  \n",
      "---  ------           --------------  -----  \n",
      " 0   Gender           4240 non-null   int8   \n",
      " 1   age              4240 non-null   float64\n",
      " 2   education        4240 non-null   int8   \n",
      " 3   currentSmoker    4240 non-null   int8   \n",
      " 4   cigsPerDay       4240 non-null   float64\n",
      " 5   BPMeds           4240 non-null   int8   \n",
      " 6   prevalentStroke  4240 non-null   int8   \n",
      " 7   prevalentHyp     4240 non-null   int8   \n",
      " 8   diabetes         4240 non-null   int8   \n",
      " 9   tot_cholesterol  4240 non-null   float64\n",
      " 10  Systolic_BP      4240 non-null   float64\n",
      " 11  Diastolic_BP     4240 non-null   float64\n",
      " 12  BMI              4240 non-null   float64\n",
      " 13  heartRate        4240 non-null   float64\n",
      " 14  glucose          4240 non-null   float64\n",
      " 15  Heart-Att        4240 non-null   int64  \n",
      "dtypes: float64(8), int64(1), int8(7)\n",
      "memory usage: 327.2 KB\n"
     ]
    }
   ],
   "source": [
    "df.info()"
   ]
  },
  {
   "cell_type": "markdown",
   "id": "mysterious-repository",
   "metadata": {},
   "source": [
    "### Saving data into excel for model building"
   ]
  },
  {
   "cell_type": "code",
   "execution_count": 59,
   "id": "endangered-tumor",
   "metadata": {},
   "outputs": [],
   "source": [
    "df.to_csv('processed_data.csv', index=False)"
   ]
  }
 ],
 "metadata": {
  "kernelspec": {
   "display_name": "Python 3",
   "language": "python",
   "name": "python3"
  },
  "language_info": {
   "codemirror_mode": {
    "name": "ipython",
    "version": 3
   },
   "file_extension": ".py",
   "mimetype": "text/x-python",
   "name": "python",
   "nbconvert_exporter": "python",
   "pygments_lexer": "ipython3",
   "version": "3.8.8"
  }
 },
 "nbformat": 4,
 "nbformat_minor": 5
}
